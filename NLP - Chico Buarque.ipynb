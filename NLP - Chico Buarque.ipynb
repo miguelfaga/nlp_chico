{
 "cells": [
  {
   "cell_type": "code",
   "execution_count": 1,
   "id": "21d5936f",
   "metadata": {},
   "outputs": [],
   "source": [
    "from IPython.display import HTML as html_print\n",
    "import pandas as pd\n",
    "import spacy\n",
    "import nltk\n",
    "import re"
   ]
  },
  {
   "cell_type": "markdown",
   "id": "46f50e88",
   "metadata": {},
   "source": [
    "## 1 Pré-processamento\n",
    "\n",
    "### 1.1 Limpeza do dataframe"
   ]
  },
  {
   "cell_type": "code",
   "execution_count": 2,
   "id": "11fe6636",
   "metadata": {},
   "outputs": [
    {
     "data": {
      "text/html": [
       "<div>\n",
       "<style scoped>\n",
       "    .dataframe tbody tr th:only-of-type {\n",
       "        vertical-align: middle;\n",
       "    }\n",
       "\n",
       "    .dataframe tbody tr th {\n",
       "        vertical-align: top;\n",
       "    }\n",
       "\n",
       "    .dataframe thead th {\n",
       "        text-align: right;\n",
       "    }\n",
       "</style>\n",
       "<table border=\"1\" class=\"dataframe\">\n",
       "  <thead>\n",
       "    <tr style=\"text-align: right;\">\n",
       "      <th></th>\n",
       "      <th>título</th>\n",
       "      <th>letra</th>\n",
       "    </tr>\n",
       "  </thead>\n",
       "  <tbody>\n",
       "    <tr>\n",
       "      <th>0</th>\n",
       "      <td>A Aurora de Nova Iorque</td>\n",
       "      <td>A aurora de nova iorque tem\\n Quatro colunas d...</td>\n",
       "    </tr>\n",
       "    <tr>\n",
       "      <th>1</th>\n",
       "      <td>a Banda</td>\n",
       "      <td>Estava à toa na vida\\nO meu amor me chamou\\nPr...</td>\n",
       "    </tr>\n",
       "    <tr>\n",
       "      <th>2</th>\n",
       "      <td>a Bela E a Fera</td>\n",
       "      <td>Ouve a declaração, oh bela\\nDe um sonhador tit...</td>\n",
       "    </tr>\n",
       "    <tr>\n",
       "      <th>3</th>\n",
       "      <td>a Cidade Dos Artistas</td>\n",
       "      <td>Na cidade\\nSer artista\\nÉ posar sorridente\\nÉ ...</td>\n",
       "    </tr>\n",
       "    <tr>\n",
       "      <th>4</th>\n",
       "      <td>a Cidade Ideal</td>\n",
       "      <td>[introdução]\\nJumento: Àquela altura da estrad...</td>\n",
       "    </tr>\n",
       "    <tr>\n",
       "      <th>5</th>\n",
       "      <td>a Foto Da Capa</td>\n",
       "      <td>O retrato do artista quando moço\\nNão é promis...</td>\n",
       "    </tr>\n",
       "    <tr>\n",
       "      <th>6</th>\n",
       "      <td>a Galinha</td>\n",
       "      <td>[introdução]\\nJumento: Acabou?\\nCalma companhe...</td>\n",
       "    </tr>\n",
       "    <tr>\n",
       "      <th>7</th>\n",
       "      <td>a História De Lily Braun</td>\n",
       "      <td>Como num romance\\nO homem dos meus sonhos\\nMe ...</td>\n",
       "    </tr>\n",
       "    <tr>\n",
       "      <th>8</th>\n",
       "      <td>A Ilha</td>\n",
       "      <td>Um facho de luz\\nQue a tudo seduz \\nPor aqui\\n...</td>\n",
       "    </tr>\n",
       "    <tr>\n",
       "      <th>9</th>\n",
       "      <td>a Mais Bonita</td>\n",
       "      <td>Não, solidão, hoje não quero me retocar\\nNesse...</td>\n",
       "    </tr>\n",
       "    <tr>\n",
       "      <th>10</th>\n",
       "      <td>A Mão da Limpeza</td>\n",
       "      <td>O branco inventou que o negro\\nQuando não suja...</td>\n",
       "    </tr>\n",
       "    <tr>\n",
       "      <th>11</th>\n",
       "      <td>a Moça Do Sonho</td>\n",
       "      <td>Súbito me encantou\\nA moça em contraluz\\nArris...</td>\n",
       "    </tr>\n",
       "    <tr>\n",
       "      <th>12</th>\n",
       "      <td>A Mulher de Cada Porto</td>\n",
       "      <td>ELE\\nQuem me dera ficar meu amor, de uma vez \\...</td>\n",
       "    </tr>\n",
       "    <tr>\n",
       "      <th>13</th>\n",
       "      <td>a Mulher Do Aníbal</td>\n",
       "      <td>Que briga é aquela que tem acolá\\nÉ a mulher d...</td>\n",
       "    </tr>\n",
       "    <tr>\n",
       "      <th>14</th>\n",
       "      <td>a Noiva Da Cidade</td>\n",
       "      <td>Tutu-Marambá não venha mais cá\\nQue a mãe da c...</td>\n",
       "    </tr>\n",
       "    <tr>\n",
       "      <th>15</th>\n",
       "      <td>a Ostra E O Vento</td>\n",
       "      <td>Vai a onda\\nVem a nuvem\\nCai a folha\\nQuem sop...</td>\n",
       "    </tr>\n",
       "    <tr>\n",
       "      <th>16</th>\n",
       "      <td>a Permuta Dos Santos</td>\n",
       "      <td>São José de porcelana vai morar\\nNa matriz da ...</td>\n",
       "    </tr>\n",
       "    <tr>\n",
       "      <th>17</th>\n",
       "      <td>A Pousada do Bom Barão</td>\n",
       "      <td>Todos\\nVamos tratar uma hospedagem\\nPra descan...</td>\n",
       "    </tr>\n",
       "    <tr>\n",
       "      <th>18</th>\n",
       "      <td>a Rita</td>\n",
       "      <td>A Rita levou meu sorriso\\nNo sorriso dela\\nMeu...</td>\n",
       "    </tr>\n",
       "    <tr>\n",
       "      <th>19</th>\n",
       "      <td>a Rosa</td>\n",
       "      <td>Arrasa o meu projeto de vida\\nQuerida, estrela...</td>\n",
       "    </tr>\n",
       "  </tbody>\n",
       "</table>\n",
       "</div>"
      ],
      "text/plain": [
       "                      título  \\\n",
       "0    A Aurora de Nova Iorque   \n",
       "1                    a Banda   \n",
       "2            a Bela E a Fera   \n",
       "3      a Cidade Dos Artistas   \n",
       "4             a Cidade Ideal   \n",
       "5             a Foto Da Capa   \n",
       "6                  a Galinha   \n",
       "7   a História De Lily Braun   \n",
       "8                     A Ilha   \n",
       "9              a Mais Bonita   \n",
       "10          A Mão da Limpeza   \n",
       "11           a Moça Do Sonho   \n",
       "12    A Mulher de Cada Porto   \n",
       "13        a Mulher Do Aníbal   \n",
       "14         a Noiva Da Cidade   \n",
       "15         a Ostra E O Vento   \n",
       "16      a Permuta Dos Santos   \n",
       "17    A Pousada do Bom Barão   \n",
       "18                    a Rita   \n",
       "19                    a Rosa   \n",
       "\n",
       "                                                letra  \n",
       "0   A aurora de nova iorque tem\\n Quatro colunas d...  \n",
       "1   Estava à toa na vida\\nO meu amor me chamou\\nPr...  \n",
       "2   Ouve a declaração, oh bela\\nDe um sonhador tit...  \n",
       "3   Na cidade\\nSer artista\\nÉ posar sorridente\\nÉ ...  \n",
       "4   [introdução]\\nJumento: Àquela altura da estrad...  \n",
       "5   O retrato do artista quando moço\\nNão é promis...  \n",
       "6   [introdução]\\nJumento: Acabou?\\nCalma companhe...  \n",
       "7   Como num romance\\nO homem dos meus sonhos\\nMe ...  \n",
       "8   Um facho de luz\\nQue a tudo seduz \\nPor aqui\\n...  \n",
       "9   Não, solidão, hoje não quero me retocar\\nNesse...  \n",
       "10  O branco inventou que o negro\\nQuando não suja...  \n",
       "11  Súbito me encantou\\nA moça em contraluz\\nArris...  \n",
       "12  ELE\\nQuem me dera ficar meu amor, de uma vez \\...  \n",
       "13  Que briga é aquela que tem acolá\\nÉ a mulher d...  \n",
       "14  Tutu-Marambá não venha mais cá\\nQue a mãe da c...  \n",
       "15  Vai a onda\\nVem a nuvem\\nCai a folha\\nQuem sop...  \n",
       "16  São José de porcelana vai morar\\nNa matriz da ...  \n",
       "17  Todos\\nVamos tratar uma hospedagem\\nPra descan...  \n",
       "18  A Rita levou meu sorriso\\nNo sorriso dela\\nMeu...  \n",
       "19  Arrasa o meu projeto de vida\\nQuerida, estrela...  "
      ]
     },
     "execution_count": 2,
     "metadata": {},
     "output_type": "execute_result"
    }
   ],
   "source": [
    "df = pd.read_csv(\"chico_data.csv\", index_col=0).rename(columns={'title':'título','lyrics':'letra'}).reset_index(drop=True)\n",
    "#importa o .csv\n",
    "\n",
    "df['título'] = [df['título'][i].strip() for i in range(len(df['título']))] #remove os primeiros caracteres de cada coluna\n",
    "df['letra'] = [df['letra'][i][1:-1] for i in range(len(df['letra']))]\n",
    "\n",
    "df.head(20)"
   ]
  },
  {
   "cell_type": "markdown",
   "id": "6492ca57",
   "metadata": {},
   "source": [
    "### 1.2 Funções de pré-processamento"
   ]
  },
  {
   "cell_type": "code",
   "execution_count": 3,
   "id": "ad9fc67d",
   "metadata": {
    "scrolled": true
   },
   "outputs": [],
   "source": [
    "def pre_processamento(texto, string_unica=False):\n",
    "    '''\n",
    "    Remove outros caracteres que não são letras e também remove stopwords.\n",
    "    Printa a porcentagem de palavras relevantes.\n",
    "    -----------\n",
    "    Params:\n",
    "    -----------\n",
    "        texto : str\n",
    "            Texto completo.\n",
    "        string_unica : bool\n",
    "            Defina True para retornar uma string única pré-processada. \n",
    "    '''\n",
    "    \n",
    "    #limpeza das letras\n",
    "    apenas_letras_minusculas =  re.findall(r'\\b[A-zÀ-úü]+\\b', texto.lower()) #retorna lista com palavras do texto em minúsculas\n",
    "    \n",
    "    #limpeza das stopwords\n",
    "    nltk.download('stopwords')\n",
    "    stopwords = nltk.corpus.stopwords.words('portuguese')\n",
    "    esquecidas = ['tá', 'pra', 'né', '\\n','\\n ', '\\n\\n', '\\n\\n ', '\\n\\n\\n', '…']\n",
    "    stopwords = stopwords + esquecidas\n",
    "    \n",
    "    palavras_relevantes = [palavra for palavra in apenas_letras_minusculas if palavra not in stopwords]\n",
    "\n",
    "    #Calcula a fração entre as palavras relevantes e o universo total\n",
    "    content_fraction = len(palavras_relevantes)/len(apenas_letras_minusculas)\n",
    "    print(\"Content fraction: \" + str(content_fraction)) #printa a fração\n",
    "    \n",
    "    if string_unica:\n",
    "        palavras_string_unica = \" \".join(palavras_relevantes)\n",
    "        return palavras_string_unica\n",
    "    \n",
    "    return palavras_relevantes\n",
    "\n",
    "def destaque_texto(texto, palavras, cor):\n",
    "    '''\n",
    "    Retorna string com palavras destacadas coloridas pronta para ser impressa no hmtl_print().\n",
    "    -----------\n",
    "    Params:\n",
    "    -----------\n",
    "        texto : str\n",
    "            Texto completo.\n",
    "        palavras : list\n",
    "            Lista com palavras a serem destacadas.\n",
    "        cor : str\n",
    "            Cor de destaque das palavras\n",
    "    '''\n",
    "    palavras.sort(key=len)\n",
    "    palavras.reverse()\n",
    "    for palavra in palavras:\n",
    "        padrao = re.compile(palavra, re.IGNORECASE)\n",
    "        texto = padrao.sub(\"<text style=color:{}>{}</text>\".format(cor, palavra), texto)\n",
    "        #texto = texto.replace(palavra, \"<text style=color:{}>{}</text>\".format(cor, palavra))\n",
    "    texto = texto.replace(\"\\n\", \"<br>\")\n",
    "    texto = texto.replace(\"\\n\\n\", \"<br><br>\")\n",
    "    return texto\n",
    "\n",
    "def lemmatizacao(texto, string_unica=False, exceto=None):\n",
    "    '''\n",
    "    Retorna uma lista (ou uma string) com o texto lemmatizado.\n",
    "    -----------\n",
    "    Params:\n",
    "    -----------\n",
    "        texto : str\n",
    "            Texto completo.\n",
    "        string_unica : bool\n",
    "            Defina True para retornar uma string única pré-processada. \n",
    "        exceto : str ou list\n",
    "            Indicação da classe gramatical a não ser lematizada conforme legenda:\n",
    "                ADJ: adjective\n",
    "                ADP: adposition\n",
    "                ADV: adverb\n",
    "                AUX: auxiliary verb\n",
    "                CONJ: coordinating conjunction\n",
    "                DET: determiner\n",
    "                INTJ: interjection\n",
    "                NOUN: noun            \n",
    "                NUM: numeral\n",
    "                PART: particle\n",
    "                PRON: pronoun\n",
    "                PROPN: proper noun\n",
    "                PUNCT: punctuation\n",
    "                SCONJ: subordinating conjunction\n",
    "                SYM: symbol\n",
    "                VERB: verb\n",
    "                X: other\n",
    "    '''\n",
    "    spc = spacy.load('pt_core_news_sm') #load do pipeline para português\n",
    "    tokens = spc(texto) #TOKENIZAÇÃO\n",
    "\n",
    "    if isinstance(exceto, str): #verifica se recebeu string\n",
    "        exceto = [exceto]\n",
    "    \n",
    "    if isinstance(exceto, list): #verifica se recebeu lista\n",
    "        lemmas = [token.text if token.pos_ in exceto else token.lemma_ for token in tokens]\n",
    "        #separa os lemmas conforme a indicação gramatical\n",
    "    \n",
    "    else:\n",
    "        lemmas = [token.lemma_ for token in tokens]\n",
    "        \n",
    "    if string_unica:\n",
    "        lemmas_string_unica = \" \".join(lemmas)\n",
    "        return lemmas_string_unica\n",
    "    \n",
    "    return lemmas\n",
    "    \n",
    "\n",
    "def tabela_lemmatizacao(texto, string_unica=False):\n",
    "    '''\n",
    "    Retorna um DataFrame com informações da lemmatização (\"token\", \"lemma\", \"classe-gramartical\", \"flexão\").\n",
    "    -----------\n",
    "    Params:\n",
    "    -----------\n",
    "        texto : str\n",
    "            Texto completo.\n",
    "        string_unica : bool\n",
    "            Defina True para retornar uma string única pré-processada. \n",
    "    '''\n",
    "    spc = spacy.load('pt_core_news_sm')\n",
    "    tokens = spc(texto)\n",
    "    lemmas = []\n",
    "    for token in tokens:\n",
    "        lemmas.append([token.text, token.lemma_, token.pos_, token.tag_])\n",
    "    return pd.DataFrame(lemmas, columns = [\"token\", \"lemma\", \"classe-gramatical\", \"flexão\"])\n",
    "\n",
    "#print(spacy.explain(\"PROPN\"))"
   ]
  },
  {
   "cell_type": "markdown",
   "id": "32248020",
   "metadata": {},
   "source": [
    "### 1.3 Análise das bibliotecas\n",
    "#### 1.3.1 Destaque para palavras relevantes (nltk)"
   ]
  },
  {
   "cell_type": "code",
   "execution_count": 4,
   "id": "5dd92e3e",
   "metadata": {
    "scrolled": false
   },
   "outputs": [
    {
     "name": "stdout",
     "output_type": "stream",
     "text": [
      "Content fraction: 0.48863636363636365\n"
     ]
    },
    {
     "name": "stderr",
     "output_type": "stream",
     "text": [
      "[nltk_data] Downloading package stopwords to\n",
      "[nltk_data]     C:\\Users\\migue\\AppData\\Roaming\\nltk_data...\n",
      "[nltk_data]   Package stopwords is already up-to-date!\n"
     ]
    },
    {
     "data": {
      "text/html": [
       "Se você <text style=color:blue>quer</text> mesmo <text style=color:blue><text style=color:blue>saber</text></text><br>Por que que ela <text style=color:blue>ficou</text> <text style=color:blue>comigo</text><br>Eu <text style=color:blue>digo</text> que não <text style=color:blue>sei</text><br>Se ela <text style=color:blue>ainda</text> tem seu <text style=color:blue>endereço</text><br>Ou se <text style=color:blue>lembra</text> de você<br><text style=color:blue>confesso</text> que não <text style=color:blue>perguntei</text><br><br>As nossas <text style=color:blue><text style=color:blue>noites</text></text> são<br><text style=color:blue>feito</text> <text style=color:blue>oração</text> na <text style=color:blue>catedral</text><br>Não <text style=color:blue>cuidamos</text> do <text style=color:blue>mundo</text><br>Um <text style=color:blue>segundo</text> <text style=color:blue>se<text style=color:blue>quer</text></text><br>Que <text style=color:blue><text style=color:blue>noites</text></text> de <text style=color:blue>alucinação</text><br><text style=color:blue>passo</text> <text style=color:blue>dentro</text> <text style=color:blue>daquela</text> <text style=color:blue>mulher</text><br>Com <text style=color:blue>outros</text> <text style=color:blue>homens</text>, ela só me <text style=color:blue>diz</text><br>Que <text style=color:blue>sempre</text> se <text style=color:blue>exibiu</text><br>E até <text style=color:blue>fingiu</text> <text style=color:blue>sentir</text> <text style=color:blue>prazer</text><br>Mas <text style=color:blue>nunca</text> <text style=color:blue>soube</text>, <text style=color:blue>antes</text> de <text style=color:blue>mim</text><br>Que o <text style=color:blue>amor</text> <text style=color:blue>vai</text> <text style=color:blue>longe</text> <text style=color:blue>assim</text><br>Não foi você quem <text style=color:blue>quis</text> <text style=color:blue><text style=color:blue>saber</text></text>?"
      ],
      "text/plain": [
       "<IPython.core.display.HTML object>"
      ]
     },
     "execution_count": 4,
     "metadata": {},
     "output_type": "execute_result"
    }
   ],
   "source": [
    "cancao = df['letra'][45]  \n",
    "palavras_relevantes =  pre_processamento(cancao)\n",
    "html_print(destaque_texto(cancao, palavras_relevantes, 'blue'))"
   ]
  },
  {
   "cell_type": "markdown",
   "id": "6dc9607f",
   "metadata": {},
   "source": [
    "#### 1.3.2 Tabela de Lemmatização (spacy)"
   ]
  },
  {
   "cell_type": "code",
   "execution_count": 5,
   "id": "b5be8d0c",
   "metadata": {},
   "outputs": [
    {
     "data": {
      "text/html": [
       "<div>\n",
       "<style scoped>\n",
       "    .dataframe tbody tr th:only-of-type {\n",
       "        vertical-align: middle;\n",
       "    }\n",
       "\n",
       "    .dataframe tbody tr th {\n",
       "        vertical-align: top;\n",
       "    }\n",
       "\n",
       "    .dataframe thead th {\n",
       "        text-align: right;\n",
       "    }\n",
       "</style>\n",
       "<table border=\"1\" class=\"dataframe\">\n",
       "  <thead>\n",
       "    <tr style=\"text-align: right;\">\n",
       "      <th></th>\n",
       "      <th>token</th>\n",
       "      <th>lemma</th>\n",
       "      <th>classe-gramatical</th>\n",
       "      <th>flexão</th>\n",
       "    </tr>\n",
       "  </thead>\n",
       "  <tbody>\n",
       "    <tr>\n",
       "      <th>0</th>\n",
       "      <td>Morena</td>\n",
       "      <td>Morena</td>\n",
       "      <td>PROPN</td>\n",
       "      <td>PROPN__Gender=Masc|Number=Sing</td>\n",
       "    </tr>\n",
       "    <tr>\n",
       "      <th>1</th>\n",
       "      <td>de</td>\n",
       "      <td>de</td>\n",
       "      <td>ADP</td>\n",
       "      <td>ADP</td>\n",
       "    </tr>\n",
       "    <tr>\n",
       "      <th>2</th>\n",
       "      <td>Angola</td>\n",
       "      <td>Angola</td>\n",
       "      <td>PROPN</td>\n",
       "      <td>PROPN__Gender=Fem|Number=Sing</td>\n",
       "    </tr>\n",
       "    <tr>\n",
       "      <th>3</th>\n",
       "      <td>que</td>\n",
       "      <td>que</td>\n",
       "      <td>PRON</td>\n",
       "      <td>PRON__Gender=Fem|Number=Sing|PronType=Rel</td>\n",
       "    </tr>\n",
       "    <tr>\n",
       "      <th>4</th>\n",
       "      <td>mexe</td>\n",
       "      <td>mexer</td>\n",
       "      <td>VERB</td>\n",
       "      <td>VERB__Mood=Ind|Number=Sing|Person=3|Tense=Pres...</td>\n",
       "    </tr>\n",
       "    <tr>\n",
       "      <th>5</th>\n",
       "      <td>o</td>\n",
       "      <td>o</td>\n",
       "      <td>DET</td>\n",
       "      <td>DET__Definite=Def|Gender=Masc|Number=Sing|Pron...</td>\n",
       "    </tr>\n",
       "    <tr>\n",
       "      <th>6</th>\n",
       "      <td>chocalho</td>\n",
       "      <td>chocalhar</td>\n",
       "      <td>NOUN</td>\n",
       "      <td>NOUN__Gender=Masc|Number=Sing</td>\n",
       "    </tr>\n",
       "    <tr>\n",
       "      <th>7</th>\n",
       "      <td>amarrado</td>\n",
       "      <td>amarrar</td>\n",
       "      <td>VERB</td>\n",
       "      <td>VERB__Gender=Masc|Number=Sing|VerbForm=Part</td>\n",
       "    </tr>\n",
       "    <tr>\n",
       "      <th>8</th>\n",
       "      <td>na</td>\n",
       "      <td>o</td>\n",
       "      <td>DET</td>\n",
       "      <td>ADP_DET__Definite=Def|Gender=Fem|Number=Sing|P...</td>\n",
       "    </tr>\n",
       "    <tr>\n",
       "      <th>9</th>\n",
       "      <td>canela</td>\n",
       "      <td>canelar</td>\n",
       "      <td>NOUN</td>\n",
       "      <td>NOUN__Gender=Fem|Number=Sing</td>\n",
       "    </tr>\n",
       "    <tr>\n",
       "      <th>10</th>\n",
       "      <td>.</td>\n",
       "      <td>.</td>\n",
       "      <td>PUNCT</td>\n",
       "      <td>PUNCT</td>\n",
       "    </tr>\n",
       "    <tr>\n",
       "      <th>11</th>\n",
       "      <td>Será</td>\n",
       "      <td>Será</td>\n",
       "      <td>VERB</td>\n",
       "      <td>VERB__Mood=Ind|Number=Sing|Person=3|Tense=Fut|...</td>\n",
       "    </tr>\n",
       "    <tr>\n",
       "      <th>12</th>\n",
       "      <td>que</td>\n",
       "      <td>que</td>\n",
       "      <td>SCONJ</td>\n",
       "      <td>SCONJ</td>\n",
       "    </tr>\n",
       "    <tr>\n",
       "      <th>13</th>\n",
       "      <td>ela</td>\n",
       "      <td>ele</td>\n",
       "      <td>PRON</td>\n",
       "      <td>PRON__Case=Nom|Gender=Fem|Number=Sing|Person=3...</td>\n",
       "    </tr>\n",
       "    <tr>\n",
       "      <th>14</th>\n",
       "      <td>mexe</td>\n",
       "      <td>mexer</td>\n",
       "      <td>VERB</td>\n",
       "      <td>VERB__Mood=Ind|Number=Sing|Person=3|Tense=Pres...</td>\n",
       "    </tr>\n",
       "    <tr>\n",
       "      <th>15</th>\n",
       "      <td>o</td>\n",
       "      <td>o</td>\n",
       "      <td>DET</td>\n",
       "      <td>DET__Definite=Def|Gender=Masc|Number=Sing|Pron...</td>\n",
       "    </tr>\n",
       "    <tr>\n",
       "      <th>16</th>\n",
       "      <td>chocalho</td>\n",
       "      <td>chocalhar</td>\n",
       "      <td>NOUN</td>\n",
       "      <td>NOUN__Gender=Masc|Number=Sing</td>\n",
       "    </tr>\n",
       "    <tr>\n",
       "      <th>17</th>\n",
       "      <td>ou</td>\n",
       "      <td>ou</td>\n",
       "      <td>CCONJ</td>\n",
       "      <td>CCONJ</td>\n",
       "    </tr>\n",
       "    <tr>\n",
       "      <th>18</th>\n",
       "      <td>o</td>\n",
       "      <td>o</td>\n",
       "      <td>DET</td>\n",
       "      <td>DET__Definite=Def|Gender=Masc|Number=Sing|Pron...</td>\n",
       "    </tr>\n",
       "    <tr>\n",
       "      <th>19</th>\n",
       "      <td>chocalho</td>\n",
       "      <td>chocalhar</td>\n",
       "      <td>NOUN</td>\n",
       "      <td>NOUN__Gender=Masc|Number=Sing</td>\n",
       "    </tr>\n",
       "    <tr>\n",
       "      <th>20</th>\n",
       "      <td>é</td>\n",
       "      <td>ser</td>\n",
       "      <td>VERB</td>\n",
       "      <td>VERB__Mood=Ind|Number=Sing|Person=3|Tense=Pres...</td>\n",
       "    </tr>\n",
       "    <tr>\n",
       "      <th>21</th>\n",
       "      <td>que</td>\n",
       "      <td>que</td>\n",
       "      <td>SCONJ</td>\n",
       "      <td>SCONJ</td>\n",
       "    </tr>\n",
       "    <tr>\n",
       "      <th>22</th>\n",
       "      <td>mexe</td>\n",
       "      <td>mexer</td>\n",
       "      <td>VERB</td>\n",
       "      <td>VERB__Mood=Ind|Number=Sing|Person=3|Tense=Pres...</td>\n",
       "    </tr>\n",
       "    <tr>\n",
       "      <th>23</th>\n",
       "      <td>com</td>\n",
       "      <td>com</td>\n",
       "      <td>ADP</td>\n",
       "      <td>ADP</td>\n",
       "    </tr>\n",
       "    <tr>\n",
       "      <th>24</th>\n",
       "      <td>ela</td>\n",
       "      <td>ele</td>\n",
       "      <td>PRON</td>\n",
       "      <td>PRON__Gender=Fem|Number=Sing|Person=3|PronType...</td>\n",
       "    </tr>\n",
       "    <tr>\n",
       "      <th>25</th>\n",
       "      <td>?</td>\n",
       "      <td>?</td>\n",
       "      <td>PUNCT</td>\n",
       "      <td>PUNCT</td>\n",
       "    </tr>\n",
       "  </tbody>\n",
       "</table>\n",
       "</div>"
      ],
      "text/plain": [
       "       token      lemma classe-gramatical  \\\n",
       "0     Morena     Morena             PROPN   \n",
       "1         de         de               ADP   \n",
       "2     Angola     Angola             PROPN   \n",
       "3        que        que              PRON   \n",
       "4       mexe      mexer              VERB   \n",
       "5          o          o               DET   \n",
       "6   chocalho  chocalhar              NOUN   \n",
       "7   amarrado    amarrar              VERB   \n",
       "8         na          o               DET   \n",
       "9     canela    canelar              NOUN   \n",
       "10         .          .             PUNCT   \n",
       "11      Será       Será              VERB   \n",
       "12       que        que             SCONJ   \n",
       "13       ela        ele              PRON   \n",
       "14      mexe      mexer              VERB   \n",
       "15         o          o               DET   \n",
       "16  chocalho  chocalhar              NOUN   \n",
       "17        ou         ou             CCONJ   \n",
       "18         o          o               DET   \n",
       "19  chocalho  chocalhar              NOUN   \n",
       "20         é        ser              VERB   \n",
       "21       que        que             SCONJ   \n",
       "22      mexe      mexer              VERB   \n",
       "23       com        com               ADP   \n",
       "24       ela        ele              PRON   \n",
       "25         ?          ?             PUNCT   \n",
       "\n",
       "                                               flexão  \n",
       "0                      PROPN__Gender=Masc|Number=Sing  \n",
       "1                                                 ADP  \n",
       "2                       PROPN__Gender=Fem|Number=Sing  \n",
       "3           PRON__Gender=Fem|Number=Sing|PronType=Rel  \n",
       "4   VERB__Mood=Ind|Number=Sing|Person=3|Tense=Pres...  \n",
       "5   DET__Definite=Def|Gender=Masc|Number=Sing|Pron...  \n",
       "6                       NOUN__Gender=Masc|Number=Sing  \n",
       "7         VERB__Gender=Masc|Number=Sing|VerbForm=Part  \n",
       "8   ADP_DET__Definite=Def|Gender=Fem|Number=Sing|P...  \n",
       "9                        NOUN__Gender=Fem|Number=Sing  \n",
       "10                                              PUNCT  \n",
       "11  VERB__Mood=Ind|Number=Sing|Person=3|Tense=Fut|...  \n",
       "12                                              SCONJ  \n",
       "13  PRON__Case=Nom|Gender=Fem|Number=Sing|Person=3...  \n",
       "14  VERB__Mood=Ind|Number=Sing|Person=3|Tense=Pres...  \n",
       "15  DET__Definite=Def|Gender=Masc|Number=Sing|Pron...  \n",
       "16                      NOUN__Gender=Masc|Number=Sing  \n",
       "17                                              CCONJ  \n",
       "18  DET__Definite=Def|Gender=Masc|Number=Sing|Pron...  \n",
       "19                      NOUN__Gender=Masc|Number=Sing  \n",
       "20  VERB__Mood=Ind|Number=Sing|Person=3|Tense=Pres...  \n",
       "21                                              SCONJ  \n",
       "22  VERB__Mood=Ind|Number=Sing|Person=3|Tense=Pres...  \n",
       "23                                                ADP  \n",
       "24  PRON__Gender=Fem|Number=Sing|Person=3|PronType...  \n",
       "25                                              PUNCT  "
      ]
     },
     "execution_count": 5,
     "metadata": {},
     "output_type": "execute_result"
    }
   ],
   "source": [
    "tabela = tabela_lemmatizacao(\"Morena de Angola que mexe o chocalho amarrado na canela. Será que ela mexe o chocalho ou o chocalho é que mexe com ela?\")\n",
    "tabela"
   ]
  },
  {
   "cell_type": "code",
   "execution_count": 6,
   "id": "24f9975c",
   "metadata": {},
   "outputs": [
    {
     "data": {
      "text/html": [
       "<div>\n",
       "<style scoped>\n",
       "    .dataframe tbody tr th:only-of-type {\n",
       "        vertical-align: middle;\n",
       "    }\n",
       "\n",
       "    .dataframe tbody tr th {\n",
       "        vertical-align: top;\n",
       "    }\n",
       "\n",
       "    .dataframe thead th {\n",
       "        text-align: right;\n",
       "    }\n",
       "</style>\n",
       "<table border=\"1\" class=\"dataframe\">\n",
       "  <thead>\n",
       "    <tr style=\"text-align: right;\">\n",
       "      <th></th>\n",
       "      <th>0</th>\n",
       "      <th>1</th>\n",
       "      <th>2</th>\n",
       "      <th>3</th>\n",
       "      <th>4</th>\n",
       "      <th>5</th>\n",
       "      <th>6</th>\n",
       "      <th>7</th>\n",
       "      <th>8</th>\n",
       "      <th>9</th>\n",
       "    </tr>\n",
       "  </thead>\n",
       "  <tbody>\n",
       "    <tr>\n",
       "      <th>token</th>\n",
       "      <td>Pra</td>\n",
       "      <td>ver</td>\n",
       "      <td>a</td>\n",
       "      <td>banda</td>\n",
       "      <td>passar</td>\n",
       "      <td>,</td>\n",
       "      <td>cantando</td>\n",
       "      <td>coisas</td>\n",
       "      <td>de</td>\n",
       "      <td>amor</td>\n",
       "    </tr>\n",
       "    <tr>\n",
       "      <th>lemma</th>\n",
       "      <td>Pra</td>\n",
       "      <td>ver</td>\n",
       "      <td>o</td>\n",
       "      <td>bandar</td>\n",
       "      <td>passar</td>\n",
       "      <td>,</td>\n",
       "      <td>cantar</td>\n",
       "      <td>coisa</td>\n",
       "      <td>de</td>\n",
       "      <td>amor</td>\n",
       "    </tr>\n",
       "    <tr>\n",
       "      <th>classe-gramatical</th>\n",
       "      <td>NOUN</td>\n",
       "      <td>VERB</td>\n",
       "      <td>DET</td>\n",
       "      <td>NOUN</td>\n",
       "      <td>VERB</td>\n",
       "      <td>PUNCT</td>\n",
       "      <td>VERB</td>\n",
       "      <td>NOUN</td>\n",
       "      <td>ADP</td>\n",
       "      <td>NOUN</td>\n",
       "    </tr>\n",
       "  </tbody>\n",
       "</table>\n",
       "</div>"
      ],
      "text/plain": [
       "                      0     1    2       3       4      5         6       7  \\\n",
       "token               Pra   ver    a   banda  passar      ,  cantando  coisas   \n",
       "lemma               Pra   ver    o  bandar  passar      ,    cantar   coisa   \n",
       "classe-gramatical  NOUN  VERB  DET    NOUN    VERB  PUNCT      VERB    NOUN   \n",
       "\n",
       "                     8     9  \n",
       "token               de  amor  \n",
       "lemma               de  amor  \n",
       "classe-gramatical  ADP  NOUN  "
      ]
     },
     "execution_count": 6,
     "metadata": {},
     "output_type": "execute_result"
    }
   ],
   "source": [
    "tabela = tabela_lemmatizacao(\"Pra ver a banda passar, cantando coisas de amor\")\n",
    "tabela[['token', 'lemma', 'classe-gramatical']].T"
   ]
  },
  {
   "cell_type": "code",
   "execution_count": 7,
   "id": "ec96ef43",
   "metadata": {},
   "outputs": [
    {
     "data": {
      "text/plain": [
       "'cancioneiro = \" \".join(df[\"letra\"])\\n\\npalavras_relevantes =  pre_processamento(cancioneiro, string_unica=True)\\npalavras_relevantes = lemmatizacao(palavras_relevantes)\\n\\nprint(\"Palavras relevantes (total): \" + str(len(palavras_relevantes)))\\npalavras_relevantes_única = set(palavras_relevantes)\\nprint(\"Palavras relevantes (únicas): \" + str(len(palavras_relevantes_única)))\\n\\ntokens = nltk.tokenize.word_tokenize(\" \".join(palavras_relevantes))\\nfd = nltk.probability.FreqDist(tokens)\\nfd.most_common(40)\\n\\n#processamento com lemmatização'"
      ]
     },
     "execution_count": 7,
     "metadata": {},
     "output_type": "execute_result"
    }
   ],
   "source": [
    "'''cancioneiro = \" \".join(df[\"letra\"])\n",
    "\n",
    "palavras_relevantes =  pre_processamento(cancioneiro, string_unica=True)\n",
    "palavras_relevantes = lemmatizacao(palavras_relevantes)\n",
    "\n",
    "print(\"Palavras relevantes (total): \" + str(len(palavras_relevantes)))\n",
    "palavras_relevantes_única = set(palavras_relevantes)\n",
    "print(\"Palavras relevantes (únicas): \" + str(len(palavras_relevantes_única)))\n",
    "\n",
    "tokens = nltk.tokenize.word_tokenize(\" \".join(palavras_relevantes))\n",
    "fd = nltk.probability.FreqDist(tokens)\n",
    "fd.most_common(40)\n",
    "\n",
    "#processamento com lemmatização'''"
   ]
  },
  {
   "cell_type": "markdown",
   "id": "cf17b75a",
   "metadata": {},
   "source": [
    "## 2. Processamento\n",
    "\n",
    "### 2.1 Load da base, do pipeline para o português (spacy) e das stopwords (nltk)"
   ]
  },
  {
   "cell_type": "code",
   "execution_count": 8,
   "id": "3875601b",
   "metadata": {
    "scrolled": true
   },
   "outputs": [
    {
     "name": "stderr",
     "output_type": "stream",
     "text": [
      "[nltk_data] Downloading package stopwords to\n",
      "[nltk_data]     C:\\Users\\migue\\AppData\\Roaming\\nltk_data...\n",
      "[nltk_data]   Package stopwords is already up-to-date!\n"
     ]
    }
   ],
   "source": [
    "cancioneiro = \" \".join(df[\"letra\"])\n",
    "\n",
    "spc = spacy.load('pt_core_news_sm') #load do pipeline para português\n",
    "tokens = spc(cancioneiro.lower()) #TOKENIZAÇÃO da base em caixa baixa\n",
    "\n",
    "nltk.download('stopwords') #load das stopwords\n",
    "stopwords = nltk.corpus.stopwords.words('portuguese')\n",
    "esquecidas = ['tá', 'pra', 'né', '\\n','\\n ', '\\n\\n', '\\n\\n ', '\\n\\n\\n', '…']\n",
    "stopwords = stopwords + esquecidas"
   ]
  },
  {
   "cell_type": "markdown",
   "id": "74c875f0",
   "metadata": {},
   "source": [
    "### 2.2 Lemmatização"
   ]
  },
  {
   "cell_type": "code",
   "execution_count": 9,
   "id": "e513a1ed",
   "metadata": {},
   "outputs": [
    {
     "name": "stdout",
     "output_type": "stream",
     "text": [
      "Fração de conteúdo: 0.3522834021843699\n"
     ]
    }
   ],
   "source": [
    "tokens_lemmatizados = []\n",
    "\n",
    "for token in tokens:\n",
    "    if token.text.lower() not in stopwords and token.pos_ != 'PUNCT' and not token.is_stop: #exclui stopwords e pontuação\n",
    "        if token.pos_ == 'VERB':\n",
    "            tokens_lemmatizados.append(token.lemma_.lower()) #lemmatização dos verbos\n",
    "        else:\n",
    "            tokens_lemmatizados.append(token.text.lower())\n",
    "            \n",
    "fracao_conteudo = len(tokens_lemmatizados)/len(tokens)\n",
    "print(\"Fração de conteúdo: \" + str(fracao_conteudo)) #printa a fração"
   ]
  },
  {
   "cell_type": "markdown",
   "id": "ec37e108",
   "metadata": {},
   "source": [
    "## 3 Análise\n",
    "\n",
    "### 3.1 Frequência e distribuição (nltk)"
   ]
  },
  {
   "cell_type": "code",
   "execution_count": 10,
   "id": "60fbdd53",
   "metadata": {},
   "outputs": [
    {
     "data": {
      "text/plain": [
       "[('amor', 304),\n",
       " ('dia', 208),\n",
       " ('cantar', 197),\n",
       " ('gente', 196),\n",
       " ('vida', 180),\n",
       " ('passar', 165),\n",
       " ('ficar', 159),\n",
       " ('levar', 157),\n",
       " ('olhar', 156),\n",
       " ('mim', 154),\n",
       " ('samba', 153),\n",
       " ('vou', 151),\n",
       " ('vir', 151),\n",
       " ('fazer', 148),\n",
       " ('ver', 148)]"
      ]
     },
     "execution_count": 10,
     "metadata": {},
     "output_type": "execute_result"
    }
   ],
   "source": [
    "frequencia = nltk.probability.FreqDist(tokens_lemmatizados)\n",
    "frequencia.most_common(15)"
   ]
  },
  {
   "cell_type": "code",
   "execution_count": 11,
   "id": "81dcc6f8",
   "metadata": {},
   "outputs": [
    {
     "data": {
      "image/png": "[encoded data removed]",
      "text/plain": [
       "<Figure size 432x288 with 1 Axes>"
      ]
     },
     "metadata": {
      "needs_background": "light"
     },
     "output_type": "display_data"
    },
    {
     "data": {
      "text/plain": [
       "<AxesSubplot:title={'center':'Palavras x Frequência'}, xlabel='Samples', ylabel='Counts'>"
      ]
     },
     "execution_count": 11,
     "metadata": {},
     "output_type": "execute_result"
    }
   ],
   "source": [
    "frequencia.plot(30,title = \"Palavras x Frequência\")"
   ]
  },
  {
   "cell_type": "markdown",
   "id": "4d24355f",
   "metadata": {},
   "source": [
    "### 3.2 Concordância e similaridade (nltk)"
   ]
  },
  {
   "cell_type": "code",
   "execution_count": 12,
   "id": "aca54ec8",
   "metadata": {
    "scrolled": false
   },
   "outputs": [
    {
     "name": "stdout",
     "output_type": "stream",
     "text": [
      "Displaying 25 of 153 matches:\n",
      "arnaval passar esperar ninguém levar samba prosseguir contrario samba comprar b\n",
      "uém levar samba prosseguir contrario samba comprar briga samba abrir mão amanhã\n",
      "seguir contrario samba comprar briga samba abrir mão amanhã ninguém traga-me vi\n",
      "ar violão batucada evoluçao tristeza samba ferver corpo porta-estandarte violão\n",
      "uros juro amor reprimir grito conter samba escuro inventar tristeza fineza desi\n",
      "so prometer amar contar encontro rua samba amigo casa peito abrigo trabalho sos\n",
      "salvar floresta salvar poesia salvar samba esquecimento baixe manto manto cinze\n",
      "salvar floresta salvar poesia salvar samba esquecimento baixe manto manto cinze\n",
      "vinda benvinda benvinda pinho chorar samba pedir sozinho iluminar escuro entrar\n",
      "almente vingar vou espalhar compasso samba disfarçar cansaço joana braço carreg\n",
      "gu cabo polícia merci beaucoup ouvir samba breque maurice chevalier bebo toulou\n",
      "ote sambar lama causar frisson olhar samba cócoras terra sapo sapatear toró can\n",
      " cantar pouquinho mim chegar capital samba dar noite alegria vir apresentar man\n",
      "ia vir apresentar mangueira mocidade samba harmonia baianas colares guias bahia\n",
      "oca pregão abrir dia hoje baile funk samba flamengo reverendo palanque ler apoc\n",
      "r casaca voce querer acreditar trago samba fazer mostrar sentir menina esperar \n",
      "o querer cantar caixinha amigo bater samba antigo rememorar noite enfim cansar \n",
      "mangueira cabo laurindo falar escola samba aplaudiu ô escola samba chorar heroi\n",
      "falar escola samba aplaudiu ô escola samba chorar heroi comovente voz heróis to\n",
      "bis missa campal bandeira pau escola samba rezar laurindo lembrar nomes batuque\n",
      "tro residir lamento preto voz pensar samba jeito acenar lenço branco durar espa\n",
      "sorrir poder cantar poder hoje fazer samba frente dizer realmente achar achar s\n",
      "a frente dizer realmente achar achar samba coerentemente assino embaixo hoje pr\n",
      "assino embaixo hoje preciso refletir samba tomar jeito embriagar louco contesta\n",
      "ndar sambar errar precise tomar cara samba melhorar cara tacho multidão sambar \n"
     ]
    }
   ],
   "source": [
    "texto_cancioneiro = nltk.Text(tokens_lemmatizados)\n",
    "texto_cancioneiro.concordance('samba')"
   ]
  },
  {
   "cell_type": "code",
   "execution_count": 13,
   "id": "a931a9af",
   "metadata": {},
   "outputs": [
    {
     "name": "stdout",
     "output_type": "stream",
     "text": [
      "Displaying 25 of 82 matches:\n",
      " chorar \n",
      " \n",
      " seguir paz brigar acolá mulher anibal zé angá brincadeira brejo vé\n",
      "ibal zé angá brincadeira brejo véio mulher anibal dançar saber acontecer zé in\n",
      "beça retirar estrada pau tava comer mulher aníbal zé angá brigar acolá pergunt\n",
      " querer conquistar quebrar-lhe cara mulher homem respeitar dotô xumara subdele\n",
      "as macas vacas pratas ana amsterdam mulher cantar estribilho querer embalar fi\n",
      "r embalar filho morar escuridão mar mulher cantar lamento querer lembrar torme\n",
      "rer lembrar tormento filho suspirar mulher cantar arranjo querer agasalhar anj\n",
      "asalhar anjo deixar corpo descansar mulher cantar dobrar sino querer cantar me\n",
      "ar sino querer cantar menino cantar mulher cantar estribilho querer embalar fi\n",
      "undo sequer noites alucinação passo mulher homens exibir fingir sentir prazer \n",
      "igarro acabar renda dar praga capim mulher fugir dono venda mim lembro pronde \n",
      "mantes rolar chão ouro poeira muita mulher passar sabão papoula cheirar vender\n",
      "a sair abaixar fronte seguir cheiro mulher rasgar dinheiro marido detonar arre\n",
      "se rodar caindo boca aba touca jura mulher sambar lama passar boné olhar filó \n",
      "evar fé iludo menina vou ficar mudo mulher melhor sair pé voce mulher amor dia\n",
      "car mudo mulher melhor sair pé voce mulher amor dia historia voce mim sentir p\n",
      "beber copo d'água marola mansa maré mulher amar orvalho manhã terra olhar terr\n",
      "beber copo d'água marola mansa maré mulher amar terra plantar verde hum casa m\n",
      "ua marola mansa maré ye ye ye ye ye mulher amar mulher amar terra plantar plan\n",
      "nsa maré ye ye ye ye ye mulher amar mulher amar terra plantar plantar verde ve\n",
      "panto lançar voz amar última beijar mulher última filho único atravessar rua p\n",
      "amão atrapalhar tráfego amar beijar mulher única filho pródigo atravessar rua \n",
      "apalhar público amar máquina beijar mulher lógico ergueu patamar paredes fláci\n",
      "mes pingentes gente cair deus pagar mulher carpideira louvar cuspir moscas bic\n",
      "eija boca hortelã dia cuidar coisas mulher esperar pro jantar beija boca café \n"
     ]
    }
   ],
   "source": [
    "texto_cancioneiro.concordance(\"mulher\")"
   ]
  },
  {
   "cell_type": "code",
   "execution_count": 14,
   "id": "95fbb979",
   "metadata": {},
   "outputs": [
    {
     "name": "stdout",
     "output_type": "stream",
     "text": [
      "hoje festa prazer floresta futebol\n"
     ]
    }
   ],
   "source": [
    "texto_cancioneiro.similar('poesia')"
   ]
  },
  {
   "cell_type": "code",
   "execution_count": 15,
   "id": "9e99ce58",
   "metadata": {},
   "outputs": [
    {
     "name": "stdout",
     "output_type": "stream",
     "text": [
      "ninguém canto levar sol olhar praça jumento ah feliz olhos solidão\n",
      "chorar terra comprar chuva guri samba contente explicar crescer\n"
     ]
    }
   ],
   "source": [
    "texto_cancioneiro.similar('gente')"
   ]
  },
  {
   "cell_type": "code",
   "execution_count": 16,
   "id": "419792f6",
   "metadata": {},
   "outputs": [
    {
     "name": "stdout",
     "output_type": "stream",
     "text": [
      "tao tao; vivo rei; laiá laiá; filha gosta; pai afasta; esfarrapado\n",
      "; afasta mim; acorda acorda; ondas ondas; benvinda benvinda; mim\n",
      "cálice; falar esfarrapado; calar boca; rei ramos; pedro pedreiro;\n",
      "gosta gostar; cara roto; querias dividida; amarrar canela; roto falar\n"
     ]
    }
   ],
   "source": [
    "texto_cancioneiro.collocations()"
   ]
  },
  {
   "cell_type": "code",
   "execution_count": 17,
   "id": "f2f85b0f",
   "metadata": {},
   "outputs": [
    {
     "name": "stdout",
     "output_type": "stream",
     "text": [
      "Content fraction: 0.5466347600555977\n"
     ]
    },
    {
     "name": "stderr",
     "output_type": "stream",
     "text": [
      "[nltk_data] Downloading package stopwords to\n",
      "[nltk_data]     C:\\Users\\migue\\AppData\\Roaming\\nltk_data...\n",
      "[nltk_data]   Package stopwords is already up-to-date!\n"
     ]
    },
    {
     "name": "stdout",
     "output_type": "stream",
     "text": [
      "tao bom; bom tao; viva rei; todo mundo; acorda acorda; laiá laiá;\n",
      "façamos vamos; vai levando; fazem façamos; pai afasta; afasta mim;\n",
      "falando esfarrapado; cala boca; roto falando; benvinda benvinda; gente\n",
      "vai; mim cálice; sambando lama; amarrado canela; filha gosta\n"
     ]
    }
   ],
   "source": [
    "texto_cancoes = nltk.Text(pre_processamento(cancioneiro, string_unica=False))\n",
    "\n",
    "texto_cancoes.collocations()"
   ]
  },
  {
   "cell_type": "code",
   "execution_count": null,
   "id": "0a7e4429",
   "metadata": {},
   "outputs": [],
   "source": []
  }
 ],
 "metadata": {
  "kernelspec": {
   "display_name": "Python 3 (ipykernel)",
   "language": "python",
   "name": "python3"
  },
  "language_info": {
   "codemirror_mode": {
    "name": "ipython",
    "version": 3
   },
   "file_extension": ".py",
   "mimetype": "text/x-python",
   "name": "python",
   "nbconvert_exporter": "python",
   "pygments_lexer": "ipython3",
   "version": "3.8.5"
  }
 },
 "nbformat": 4,
 "nbformat_minor": 5
}
